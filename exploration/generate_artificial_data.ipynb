{
 "cells": [
  {
   "cell_type": "code",
   "execution_count": null,
   "metadata": {},
   "outputs": [],
   "source": [
    "import cv2\n",
    "img = cv2.imread('ball_test_crop.png')\n",
    "img = cv2.circle(img, center=(500, 500), radius=50, color=(0, 255, 0), thickness=-1)\n",
    "cv2.imshow('img', img)\n",
    "cv2.waitKey(0)\n",
    "cv2.destroyAllWindows()\n"
   ]
  }
 ],
 "metadata": {
  "kernelspec": {
   "display_name": "Python 3.9.15 ('venv': venv)",
   "language": "python",
   "name": "python3"
  },
  "language_info": {
   "name": "python",
   "version": "3.9.15"
  },
  "orig_nbformat": 4,
  "vscode": {
   "interpreter": {
    "hash": "417e4a92a4b923e42e4b4af142adaed8b03431819d253bdf902d430b60df53e4"
   }
  }
 },
 "nbformat": 4,
 "nbformat_minor": 2
}
