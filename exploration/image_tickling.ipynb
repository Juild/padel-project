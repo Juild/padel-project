{
 "cells": [
  {
   "cell_type": "code",
   "execution_count": null,
   "metadata": {},
   "outputs": [],
   "source": [
    "from PIL import Image\n",
    "import numpy as np\n",
    "import cv2"
   ]
  },
  {
   "cell_type": "code",
   "execution_count": null,
   "metadata": {},
   "outputs": [],
   "source": [
    "%pip install opencv-python"
   ]
  },
  {
   "cell_type": "code",
   "execution_count": null,
   "metadata": {},
   "outputs": [],
   "source": [
    "im = Image.open('ball_test_1.png')\n",
    "im_arr = np.delete(np.asarray(im), 3, axis=2)\n",
    "im_arr.shape"
   ]
  },
  {
   "cell_type": "code",
   "execution_count": null,
   "metadata": {},
   "outputs": [],
   "source": [
    "\n",
    "#This is the linear way we can just output the green component\n",
    "projection = np.tile([.5, 1, .25], (1252, 2164, 1))\n",
    "\n",
    "filtered_arr = im_arr * projection\n",
    "Image.fromarray(np.uint8(filtered_arr)).show()"
   ]
  },
  {
   "cell_type": "code",
   "execution_count": null,
   "metadata": {},
   "outputs": [],
   "source": [
    "# What if we (exponentialy) distance the colours.\n",
    "# first we kill red leave green and almost kill blue\n",
    "projection = np.tile([0, 1, 0], (1252, 2164, 1))\n",
    "def only_green_else_black(x):\n",
    "    if x[1] > 250:\n",
    "        return x[1]\n",
    "    else:\n",
    "        return 0\n",
    "filtered_arr = im_arr * projection\n",
    "filtered_arr = np.apply_along_axis(only_green_else_black, 2, filtered_arr)\n",
    "\n",
    "Image.fromarray(np.uint8(filtered_arr)).show()"
   ]
  },
  {
   "cell_type": "code",
   "execution_count": null,
   "metadata": {},
   "outputs": [],
   "source": [
    "#greenLower = (0,164,235)\n",
    "#greenUpper = (170,255,255)\n",
    "greenLower = (0,1,0)\n",
    "greenUpper = (0,1,0)\n",
    "mask = cv2.inRange(im_arr, greenLower, greenUpper)\n",
    "cv2.imwrite(\"./img.png\", mask)"
   ]
  },
  {
   "cell_type": "code",
   "execution_count": null,
   "metadata": {},
   "outputs": [],
   "source": [
    "import cv2\n",
    "\n",
    "# Opens the Video file\n",
    "cap= cv2.VideoCapture(\"../best_point_cropped.mp4\")\n",
    "i=0\n",
    "print(cap.isOpened())\n",
    "while(cap.isOpened()):\n",
    "    ret, frame = cap.read()\n",
    "    print(i)\n",
    "    cv2.imwrite('kang'+str(i)+'.jpg',frame)\n",
    "    i+=1\n",
    "\n",
    "cap.release()\n",
    "cv2.destroyAllWindows()\n"
   ]
  },
  {
   "cell_type": "code",
   "execution_count": null,
   "metadata": {},
   "outputs": [],
   "source": [
    "img = Image.open('./frames/kang142978.jpg')\n",
    "img.show()"
   ]
  }
 ],
 "metadata": {
  "kernelspec": {
   "display_name": "Python 3.8.10 64-bit",
   "language": "python",
   "name": "python3"
  },
  "language_info": {
   "codemirror_mode": {
    "name": "ipython",
    "version": 3
   },
   "file_extension": ".py",
   "mimetype": "text/x-python",
   "name": "python",
   "nbconvert_exporter": "python",
   "pygments_lexer": "ipython3",
   "version": "3.8.10"
  },
  "orig_nbformat": 4,
  "vscode": {
   "interpreter": {
    "hash": "31f2aee4e71d21fbe5cf8b01ff0e069b9275f58929596ceb00d14d90e3e16cd6"
   }
  }
 },
 "nbformat": 4,
 "nbformat_minor": 2
}
