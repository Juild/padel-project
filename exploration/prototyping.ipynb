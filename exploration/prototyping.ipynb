{
 "cells": [
  {
   "cell_type": "code",
   "execution_count": 65,
   "metadata": {},
   "outputs": [
    {
     "data": {
      "text/plain": [
       "True"
      ]
     },
     "execution_count": 65,
     "metadata": {},
     "output_type": "execute_result"
    }
   ],
   "source": [
    "import sys\n",
    "sys.path.append('../model/dataset.py')\n",
    "sys.path.append('..')\n",
    "from model import dataset\n",
    "import cv2\n",
    "import numpy as np\n",
    "def show_image(image):\n",
    "    image = image.astype(np.uint8)\n",
    "    cv2.imshow('img', image)\n",
    "    cv2.waitKey(0)\n",
    "    cv2.destroyAllWindows()\n",
    "\n",
    "image = cv2.imread('../datasets/frames/frame_5660.jpg')\n",
    "image = cv2.rectangle(image,(0,0),(180,1080),(0,255,0), thickness=-1)\n",
    "image = cv2.rectangle(image,(1920-180, 0),(1920,1080),(0,255,0), thickness=-1)\n",
    "image = cv2.rectangle(image,(0, 980),(1920,1080),(0,255,0), thickness=-1)\n",
    "pts1 = np.array([[0,0],[0,700],[650, 0]], np.int32)\n",
    "pts2 = np.array([[1920,0],[1920,700],[1920 - 650, 0]], np.int32)\n",
    "\n",
    "image = cv2.fillPoly(image,[pts1],(0,255,255))\n",
    "image = cv2.fillPoly(image,[pts2],(0,255,255))\n",
    "\n",
    "\n",
    "\n",
    "# show_image(image)\n",
    "cv2.imwrite(\"test.jpg\", image)"
   ]
  },
  {
   "cell_type": "code",
   "execution_count": 29,
   "metadata": {},
   "outputs": [
    {
     "data": {
      "text/plain": [
       "True"
      ]
     },
     "execution_count": 29,
     "metadata": {},
     "output_type": "execute_result"
    }
   ],
   "source": [
    "\n"
   ]
  }
 ],
 "metadata": {
  "kernelspec": {
   "display_name": "Python 3.8.10 64-bit",
   "language": "python",
   "name": "python3"
  },
  "language_info": {
   "codemirror_mode": {
    "name": "ipython",
    "version": 3
   },
   "file_extension": ".py",
   "mimetype": "text/x-python",
   "name": "python",
   "nbconvert_exporter": "python",
   "pygments_lexer": "ipython3",
   "version": "3.8.10"
  },
  "orig_nbformat": 4,
  "vscode": {
   "interpreter": {
    "hash": "31f2aee4e71d21fbe5cf8b01ff0e069b9275f58929596ceb00d14d90e3e16cd6"
   }
  }
 },
 "nbformat": 4,
 "nbformat_minor": 2
}
