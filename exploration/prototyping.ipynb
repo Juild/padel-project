{
 "cells": [
  {
   "cell_type": "code",
   "execution_count": 1,
   "metadata": {},
   "outputs": [],
   "source": [
    "import sys\n",
    "sys.path.append(\"..\")\n",
    "from model import model\n",
    "from model import dataset as ds\n",
    "from torch.utils.data import DataLoader\n",
    "import os\n",
    "import torch\n",
    "DEVICE = \"cuda\" if torch.cuda.is_available() else \"cpu\"\n",
    "DEVICE\n",
    "train_dataset = ds.ImageDataset(\n",
    "    annotations_path=\"../datasets/annotations/\",\n",
    "    images_path=\"../../frames/\",\n",
    "    channels=3\n",
    ")\n",
    "\n",
    "\n",
    "len(train_dataset)\n",
    "train_loader = DataLoader(\n",
    "    train_dataset,\n",
    "    batch_size=len(train_dataset.images),\n",
    "    shuffle=True,\n",
    "    num_workers=os.cpu_count()\n",
    "    )\n",
    "\"\"\"\n",
    "What I will want to have in order to work with several bounding boxes per image is to have\n",
    "the same image repeated for each bbox annotation. This is actually logical in some sense, as\n",
    "it is a different datapoint. We are working in a supervised learning setting, so basically\n",
    "we have {x_n, y_n} as datapoint with x_n the feature tensor and y_n the target tensor (I say\n",
    "tensor to account for the most general structure of numbers). Then following this formulation\n",
    "it makes sense that we will have different datapoints {x_n, y_n} where the same feature tensor x_n\n",
    "maps to a different target tensor.\n",
    "\n",
    "There's nothing wrong with this, we are just defining a one to many mapping which could also happen\n",
    "in tabular (structured) data.\n",
    "\n",
    "As I'm writing this though, I'm thinking another potential issue. How will I then, at prediction time\n",
    "be able to predict more than one bounding box if the regressor head of the neural network has a fixed output size of 4?\n",
    "\n",
    "A possible idea is to create \"artificial\" classes (i.e. also use a classifier head). The classifier head can have a certain \n",
    "number of classes, let's say 5 classes. Then what I can do at training time is to associate each example to the same class, that is, the bounding box of image 1\n",
    "at the same time belongs to class 1 , 2,3,4,5 and so on for each image bounding box combination. Then at prediction time I would get effectively what I want.\n",
    "\n",
    "#TODO Read: https://d2l.ai/chapter_computer-vision/anchor.html\n",
    "\"\"\"\n",
    "model = model.BoxRegressor().to(DEVICE)\n",
    "bbox_loss_func = torch.nn.MSELoss()\n",
    "optimizator = torch.optim.Adam(model.parameters(), lr=.01)\n",
    "train_loss = []\n",
    "\n",
    "for epoch in range(5):\n",
    "    model.train()\n",
    "    loss = 0\n",
    "    for (images, bboxes) in train_loader:\n",
    "        (images, bboxes) = (images.to(DEVICE), bboxes.to(DEVICE))\n",
    "        predictions = model(images)\n",
    "        bbox_loss = bbox_loss_func(predictions, bboxes)\n",
    "        loss += bbox_loss\n",
    "        # ..."
   ]
  }
 ],
 "metadata": {
  "kernelspec": {
   "display_name": "Python 3.8.10 64-bit",
   "language": "python",
   "name": "python3"
  },
  "language_info": {
   "codemirror_mode": {
    "name": "ipython",
    "version": 3
   },
   "file_extension": ".py",
   "mimetype": "text/x-python",
   "name": "python",
   "nbconvert_exporter": "python",
   "pygments_lexer": "ipython3",
   "version": "3.8.10"
  },
  "orig_nbformat": 4,
  "vscode": {
   "interpreter": {
    "hash": "31f2aee4e71d21fbe5cf8b01ff0e069b9275f58929596ceb00d14d90e3e16cd6"
   }
  }
 },
 "nbformat": 4,
 "nbformat_minor": 2
}
