{
 "cells": [
  {
   "cell_type": "code",
   "execution_count": 1,
   "metadata": {},
   "outputs": [
    {
     "data": {
      "text/plain": [
       "'cuda'"
      ]
     },
     "execution_count": 1,
     "metadata": {},
     "output_type": "execute_result"
    }
   ],
   "source": [
    "import sys\n",
    "sys.path.append(\"..\")\n",
    "from model import model\n",
    "from model import dataset as ds\n",
    "from torch.utils.data import DataLoader\n",
    "import os\n",
    "import torch\n",
    "from torchvision import transforms\n",
    "from utils import import_data \n",
    "from torchvision.models import resnet50\n",
    "DEVICE = \"cuda\" if torch.cuda.is_available() else \"cpu\"\n",
    "DEVICE"
   ]
  },
  {
   "cell_type": "code",
   "execution_count": null,
   "metadata": {},
   "outputs": [],
   "source": [
    "images, bboxes, means, stds = import_data(\n",
    "    annotations_path=\"../datasets/annotations/\",\n",
    "    images_path=\"../frames/\",\n",
    "    channels=3\n",
    ")"
   ]
  },
  {
   "cell_type": "code",
   "execution_count": null,
   "metadata": {},
   "outputs": [],
   "source": [
    "train_dataset = ds.ImageDataset(\n",
    "    images,\n",
    "    transforms=transforms.ToTensor(),\n",
    "    target_transforms=transforms.ToTensor()\n",
    ")"
   ]
  },
  {
   "cell_type": "code",
   "execution_count": null,
   "metadata": {},
   "outputs": [],
   "source": [
    "len(train_dataset)\n",
    "train_loader = DataLoader(\n",
    "    train_dataset,\n",
    "    batch_size=len(train_dataset.images),\n",
    "    shuffle=True,\n",
    "    num_workers=os.cpu_count()\n",
    "    )"
   ]
  },
  {
   "cell_type": "code",
   "execution_count": null,
   "metadata": {},
   "outputs": [],
   "source": [
    "\n",
    "\n",
    "#TODO Read: https://d2l.ai/chapter_computer-vision/anchor.html\n",
    "\n",
    "\n",
    "resnet = resnet50(pretrained=True)\n",
    "for param in resnet.parameters():\n",
    "    param.requires_grad = False\n",
    "\n",
    "model = model.BoxRegressor(base_model=resnet).to(DEVICE)\n",
    "bbox_loss_func = torch.nn.MSELoss()\n",
    "optimizator = torch.optim.Adam(model.parameters(), lr=.01)\n",
    "train_loss = []\n",
    "\n",
    "for epoch in range(5):\n",
    "    model.train()\n",
    "    loss = 0\n",
    "    for (images, bboxes) in train_loader:\n",
    "        (images, bboxes) = (images.to(DEVICE), bboxes.to(DEVICE))\n",
    "        predictions = model(images)\n",
    "        bbox_loss = bbox_loss_func(predictions, bboxes)\n",
    "        loss += bbox_loss"
   ]
  },
  {
   "cell_type": "code",
   "execution_count": 4,
   "metadata": {},
   "outputs": [
    {
     "data": {
      "text/plain": [
       "2"
      ]
     },
     "execution_count": 4,
     "metadata": {},
     "output_type": "execute_result"
    }
   ],
   "source": [
    "import torch\n",
    "l = [torch.tensor([[1,2], [3,4]]), torch.tensor([[3,56], [3,4])]\n",
    "len(torch.concat(l))\n"
   ]
  }
 ],
 "metadata": {
  "kernelspec": {
   "display_name": "Python 3.9.6 64-bit",
   "language": "python",
   "name": "python3"
  },
  "language_info": {
   "codemirror_mode": {
    "name": "ipython",
    "version": 3
   },
   "file_extension": ".py",
   "mimetype": "text/x-python",
   "name": "python",
   "nbconvert_exporter": "python",
   "pygments_lexer": "ipython3",
   "version": "3.8.10"
  },
  "orig_nbformat": 4,
  "vscode": {
   "interpreter": {
    "hash": "31f2aee4e71d21fbe5cf8b01ff0e069b9275f58929596ceb00d14d90e3e16cd6"
   }
  }
 },
 "nbformat": 4,
 "nbformat_minor": 2
}
