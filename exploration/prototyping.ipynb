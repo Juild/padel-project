{
 "cells": [
  {
   "cell_type": "code",
   "execution_count": 45,
   "metadata": {},
   "outputs": [
    {
     "name": "stdout",
     "output_type": "stream",
     "text": [
      "(1080, 1920, 3)\n"
     ]
    }
   ],
   "source": [
    "import cv2\n",
    "import numpy as np\n",
    "image = cv2.imread('../frames/kang349.jpg')\n",
    "cv2.imshow('img', image)\n",
    "image_orig = cv2.cvtColor(image, cv2.COLOR_BGR2HSV)\n",
    "image_filtered = cv2.inRange(image, (100, 120, 180), (180, 250, 255))\n",
    "(H, S, V) = cv2.split(image_orig)\n",
    "template = np.zeros(shape=(image.shape[0], image.shape[1], 3), dtype=np.uint8)\n",
    "template[:, :, 0] = H[:, :]\n",
    "template[:, :, 1] =  S[:, :]\n",
    "# template[:, :, 2] = cv2.inRange(V, 170, 175)[:, :]\n",
    "\n",
    "print(template.shape)\n",
    "cv2.imshow(\"img\", template )\n",
    "cv2.waitKey(0)\n",
    "cv2.destroyAllWindows()\n"
   ]
  },
  {
   "cell_type": "code",
   "execution_count": 17,
   "metadata": {},
   "outputs": [],
   "source": [
    "import cv2\n",
    "import numpy as np\n",
    "image = cv2.imread('../frames/kang394_cropped.jpg')\n",
    "with open('ball.txt', 'w') as f:\n",
    "    for i in range(len(image)):\n",
    "        for j in range(len(image)):\n",
    "            f.write(str(image[i, j]) + '\\t')\n",
    "        f.write('\\n')\n",
    "cv2.imshow('img', image)\n",
    "cv2.waitKey(0)\n",
    "cv2.destroyAllWindows()"
   ]
  },
  {
   "cell_type": "code",
   "execution_count": 23,
   "metadata": {},
   "outputs": [
    {
     "name": "stdout",
     "output_type": "stream",
     "text": [
      "(1080, 1920, 3)\n"
     ]
    }
   ],
   "source": [
    "from torchvision import transforms\n",
    "from PIL import Image\n",
    "from pathlib import Path\n",
    "import matplotlib.pyplot as plt\n",
    "import cv2\n",
    "import numpy as np\n",
    "import torch \n",
    "\n",
    "image = cv2.imread('../frames/kang349.jpg')\n",
    "#image = Image.open('../frames/kang349.jpg')\n",
    "image = cv2.cvtColor(image, cv2.COLOR_BGR2HSV)\n",
    "image = torch.tensor(image).permute(2, 0, 1)\n",
    "affine = transforms.RandomAutocontrast(p=1)\n",
    "image_transformed = affine(image).permute(1, 2, 0).numpy()\n",
    "\n",
    "print(image_transformed.shape)\n",
    "cv2.imshow('test', image_transformed)\n",
    "cv2.waitKey(0)\n",
    "cv2.destroyAllWindows()\n"
   ]
  },
  {
   "cell_type": "code",
   "execution_count": 6,
   "metadata": {},
   "outputs": [
    {
     "name": "stdout",
     "output_type": "stream",
     "text": [
      "(41, 32, 3)\n"
     ]
    }
   ],
   "source": [
    "import cv2\n",
    "img = cv2.imread('ball_test_crop.jpg')\n",
    "img = cv2.circle(img, center= (20, 20), radius=10, color=(0, 255, 10), thickness=-1)\n",
    "print(img.shape)\n",
    "\n",
    "\n"
   ]
  },
  {
   "cell_type": "code",
   "execution_count": 7,
   "metadata": {},
   "outputs": [],
   "source": [
    "cv2.imshow('img', img)\n",
    "cv2.waitKey(0)\n",
    "cv2.destroyAllWindows()"
   ]
  }
 ],
 "metadata": {
  "kernelspec": {
   "display_name": "Python 3.9.15 ('venv': venv)",
   "language": "python",
   "name": "python3"
  },
  "language_info": {
   "codemirror_mode": {
    "name": "ipython",
    "version": 3
   },
   "file_extension": ".py",
   "mimetype": "text/x-python",
   "name": "python",
   "nbconvert_exporter": "python",
   "pygments_lexer": "ipython3",
   "version": "3.9.15"
  },
  "orig_nbformat": 4,
  "vscode": {
   "interpreter": {
    "hash": "417e4a92a4b923e42e4b4af142adaed8b03431819d253bdf902d430b60df53e4"
   }
  }
 },
 "nbformat": 4,
 "nbformat_minor": 2
}
