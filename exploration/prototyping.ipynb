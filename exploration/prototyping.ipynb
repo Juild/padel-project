{
 "cells": [
  {
   "cell_type": "code",
   "execution_count": 25,
   "metadata": {},
   "outputs": [],
   "source": [
    "import sys\n",
    "sys.path.append('../model/dataset.py')\n",
    "sys.path.append('..')\n",
    "from model import dataset\n",
    "from utils import import_data\n",
    "images_with_ball, images_without_ball = import_data('../predictions/image10.jpg')\n",
    "train_dataset = dataset.ImageDataset(\n",
    "    images_with_ball,\n",
    "    images_without_ball,\n",
    "    transforms=None\n",
    ")"
   ]
  },
  {
   "cell_type": "code",
   "execution_count": 27,
   "metadata": {},
   "outputs": [
    {
     "name": "stdout",
     "output_type": "stream",
     "text": [
      "1152\n",
      "tensor(1.)\n"
     ]
    }
   ],
   "source": [
    "import numpy as np\n",
    "print(len(train_dataset))\n",
    "image, label = train_dataset[1100]\n",
    "image = image.permute(1 , 2 , 0).numpy()\n",
    "image = image.astype(np.uint8)\n",
    "print(label)\n",
    "import cv2\n",
    "cv2.imshow('img', image)\n",
    "cv2.waitKey(0)\n",
    "cv2.destroyAllWindows()"
   ]
  }
 ],
 "metadata": {
  "kernelspec": {
   "display_name": "Python 3.8.10 64-bit",
   "language": "python",
   "name": "python3"
  },
  "language_info": {
   "codemirror_mode": {
    "name": "ipython",
    "version": 3
   },
   "file_extension": ".py",
   "mimetype": "text/x-python",
   "name": "python",
   "nbconvert_exporter": "python",
   "pygments_lexer": "ipython3",
   "version": "3.8.10"
  },
  "orig_nbformat": 4,
  "vscode": {
   "interpreter": {
    "hash": "31f2aee4e71d21fbe5cf8b01ff0e069b9275f58929596ceb00d14d90e3e16cd6"
   }
  }
 },
 "nbformat": 4,
 "nbformat_minor": 2
}
