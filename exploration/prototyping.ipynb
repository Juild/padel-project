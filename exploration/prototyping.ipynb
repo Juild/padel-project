{
 "cells": [
  {
   "cell_type": "code",
   "execution_count": 6,
   "metadata": {},
   "outputs": [
    {
     "data": {
      "text/plain": [
       "'cpu'"
      ]
     },
     "execution_count": 6,
     "metadata": {},
     "output_type": "execute_result"
    }
   ],
   "source": [
    "import sys\n",
    "sys.path.append(\"..\")\n",
    "from model import model\n",
    "from model import dataset as ds\n",
    "from torch.utils.data import DataLoader\n",
    "import os\n",
    "import torch\n",
    "from torchvision import transforms\n",
    "from utils import import_data \n",
    "DEVICE = \"cuda\" if torch.cuda.is_available() else \"cpu\"\n",
    "DEVICE"
   ]
  },
  {
   "cell_type": "code",
   "execution_count": null,
   "metadata": {},
   "outputs": [],
   "source": [
    "images, bboxes, means, stds = import_data(\n",
    "    annotations_path=\"../datasets/annotations/\",\n",
    "    images_path=\"../../frames/\",\n",
    "    channels=3\n",
    ")"
   ]
  },
  {
   "cell_type": "code",
   "execution_count": null,
   "metadata": {},
   "outputs": [],
   "source": [
    "train_dataset = ds.ImageDataset(\n",
    "    images,\n",
    "    transforms=transforms.ToTensor(),\n",
    "    target_transforms=transforms.ToTensor()\n",
    ")"
   ]
  },
  {
   "cell_type": "code",
   "execution_count": null,
   "metadata": {},
   "outputs": [],
   "source": [
    "len(train_dataset)\n",
    "train_loader = DataLoader(\n",
    "    train_dataset,\n",
    "    batch_size=len(train_dataset.images),\n",
    "    shuffle=True,\n",
    "    num_workers=os.cpu_count()\n",
    "    )"
   ]
  },
  {
   "cell_type": "code",
   "execution_count": null,
   "metadata": {},
   "outputs": [],
   "source": [
    "\n",
    "\n",
    "#TODO Read: https://d2l.ai/chapter_computer-vision/anchor.html\n",
    "\n",
    "\n",
    "# Option 1 data point = {image_path, bbox_coordinates, class}\n",
    "# Option 2 just use the first bbox always and ignore the rest. Not good, but for testing purposes it can suffice\n",
    "# Option 3 (Probably ideal) use anchor boxes. I'm hesitant to this idea because we only have one class and it feels a bit too cumbersome in this context\n",
    "model = model.BoxRegressor().to(DEVICE)\n",
    "bbox_loss_func = torch.nn.MSELoss()\n",
    "optimizator = torch.optim.Adam(model.parameters(), lr=.01)\n",
    "train_loss = []\n",
    "\n",
    "for epoch in range(5):\n",
    "    model.train()\n",
    "    loss = 0\n",
    "    for (images, bboxes) in train_loader:\n",
    "        (images, bboxes) = (images.to(DEVICE), bboxes.to(DEVICE))\n",
    "        predictions = model(images)\n",
    "        bbox_loss = bbox_loss_func(predictions, bboxes)\n",
    "        loss += bbox_loss"
   ]
  },
  {
   "cell_type": "code",
   "execution_count": 8,
   "metadata": {},
   "outputs": [
    {
     "data": {
      "text/plain": [
       "tensor([1, 1])"
      ]
     },
     "execution_count": 8,
     "metadata": {},
     "output_type": "execute_result"
    }
   ],
   "source": [
    "torch.tensor([(1,1), (2,2)])[0]"
   ]
  }
 ],
 "metadata": {
  "kernelspec": {
   "display_name": "Python 3.8.10 64-bit",
   "language": "python",
   "name": "python3"
  },
  "language_info": {
   "codemirror_mode": {
    "name": "ipython",
    "version": 3
   },
   "file_extension": ".py",
   "mimetype": "text/x-python",
   "name": "python",
   "nbconvert_exporter": "python",
   "pygments_lexer": "ipython3",
   "version": "3.9.6"
  },
  "orig_nbformat": 4,
  "vscode": {
   "interpreter": {
    "hash": "31f2aee4e71d21fbe5cf8b01ff0e069b9275f58929596ceb00d14d90e3e16cd6"
   }
  }
 },
 "nbformat": 4,
 "nbformat_minor": 2
}
